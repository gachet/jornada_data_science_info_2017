{
 "cells": [
  {
   "cell_type": "markdown",
   "metadata": {},
   "source": [
    "# Ejemplo de proceso Data Science #2: Deteccion de contenido adulto en paginas web.\n",
    "\n",
    "\n",
    "En este ejemplo creamos una aplicacion, que dada una url, nos dirá si dicha url es de contenido para adultos o no.\n",
    "\n",
    "\n",
    "Usaremos Scrapy para scrapear el dataset de entrenamiento, NTLK para el procesado de lenguaje natural y Scikit-Learn para el Machine Learning"
   ]
  },
  {
   "cell_type": "markdown",
   "metadata": {
    "deletable": true,
    "editable": true
   },
   "source": [
    "## Definición del Problema\n",
    "\n",
    "\n",
    "Una empresa de ropa de bebés ha gastado una cantidad no considerable en anuncios online. Sin embargo, ha recibido noticias de que sus anuncios se han mostrado en páginas de contenido adulto. El CEO quiere analizar los datos históricos de anuncios mostrados y asegurarse de que no se han mostrado sus anuncios en páginas adultas "
   ]
  },
  {
   "cell_type": "markdown",
   "metadata": {},
   "source": [
    "# 1. Obtención del dataset de entrenamiento.\n",
    "\n",
    "Crearemos una [araña](https://github.com/manugarri/jornada_data_science_info_2017/blob/master/ejemplos/Ejemplo2/spider.py) a la que le daremos un listado de links de agregadores de contenido adulto por una parte, y otro listado de links de contenido no adulto. Dicha araña simplemente parseara todo el HTML de cada link en dichas páginas."
   ]
  },
  {
   "cell_type": "markdown",
   "metadata": {
    "deletable": true,
    "editable": true
   },
   "source": [
    "# Leemos el dataset con los contenidos adultos y no adultos"
   ]
  },
  {
   "cell_type": "code",
   "execution_count": 24,
   "metadata": {
    "collapsed": false,
    "deletable": true,
    "editable": true
   },
   "outputs": [],
   "source": [
    "import json\n",
    "import pandas as pd\n",
    "\n",
    "with open(\"data.jsonlines\") as fname:\n",
    "    lines = fname.readlines()\n",
    "    rows = [json.loads(l) for l in lines]\n",
    "    data = pd.DataFrame(rows)"
   ]
  },
  {
   "cell_type": "markdown",
   "metadata": {},
   "source": [
    "# El dataset inicial contiene la url, el contenido html y una etiqueta que es 1 si el contenido es adulto y un 0 si no lo es"
   ]
  },
  {
   "cell_type": "code",
   "execution_count": 25,
   "metadata": {
    "collapsed": false
   },
   "outputs": [
    {
     "data": {
      "text/html": [
       "<div>\n",
       "<table border=\"1\" class=\"dataframe\">\n",
       "  <thead>\n",
       "    <tr style=\"text-align: right;\">\n",
       "      <th></th>\n",
       "      <th>label</th>\n",
       "      <th>text</th>\n",
       "      <th>url</th>\n",
       "    </tr>\n",
       "  </thead>\n",
       "  <tbody>\n",
       "    <tr>\n",
       "      <th>0</th>\n",
       "      <td>1</td>\n",
       "      <td>User:\\n        Pass:\\n  \\n        \\n\\n    \\n  ...</td>\n",
       "      <td>http://www.kuntfutube.com/videos/all/date-0/</td>\n",
       "    </tr>\n",
       "    <tr>\n",
       "      <th>1</th>\n",
       "      <td>1</td>\n",
       "      <td>Home | \\n                                Categ...</td>\n",
       "      <td>http://www.pk5.net/</td>\n",
       "    </tr>\n",
       "    <tr>\n",
       "      <th>2</th>\n",
       "      <td>1</td>\n",
       "      <td>youpunish.com\\tEnlaces relacionadosEste domini...</td>\n",
       "      <td>http://ww1.youpunish.com</td>\n",
       "    </tr>\n",
       "    <tr>\n",
       "      <th>3</th>\n",
       "      <td>1</td>\n",
       "      <td>FuckingMonth Filter by post typeAll postsTextP...</td>\n",
       "      <td>http://g-o-z-a-r.tumblr.com/archive/</td>\n",
       "    </tr>\n",
       "    <tr>\n",
       "      <th>4</th>\n",
       "      <td>1</td>\n",
       "      <td>(function() { document.write('&lt;iframe alt=\"\" a...</td>\n",
       "      <td>http://www.yobt.tv/</td>\n",
       "    </tr>\n",
       "    <tr>\n",
       "      <th>5</th>\n",
       "      <td>1</td>\n",
       "      <td>SexgifMonth Filter by post typeAll postsTextPh...</td>\n",
       "      <td>http://sexgif-net.tumblr.com/archive/</td>\n",
       "    </tr>\n",
       "    <tr>\n",
       "      <th>6</th>\n",
       "      <td>1</td>\n",
       "      <td>phantomPopunder = (function () {\\r\\n\\tvar phan...</td>\n",
       "      <td>http://vintage-erotica-forum.com/</td>\n",
       "    </tr>\n",
       "    <tr>\n",
       "      <th>7</th>\n",
       "      <td>1</td>\n",
       "      <td>Sign-In or Join\\r\\n\\t\\t        \\r\\n\\t        \\...</td>\n",
       "      <td>http://www.icanhazchat.com/welcome?gonewild</td>\n",
       "    </tr>\n",
       "    <tr>\n",
       "      <th>8</th>\n",
       "      <td>1</td>\n",
       "      <td>sonnbXenGalleryEnableInterlace = 0;\\n\\n\\n\\n   ...</td>\n",
       "      <td>http://forum.xnxx.com/</td>\n",
       "    </tr>\n",
       "    <tr>\n",
       "      <th>9</th>\n",
       "      <td>1</td>\n",
       "      <td>Forumophilia\\n\\n\\n\\n\\n\\nRegister  \\n\\nLog in  ...</td>\n",
       "      <td>http://www.forumophilia.com</td>\n",
       "    </tr>\n",
       "    <tr>\n",
       "      <th>10</th>\n",
       "      <td>1</td>\n",
       "      <td>Your browser does not support iframes. \\n\\n\\n\\...</td>\n",
       "      <td>http://www.porn-w.org/</td>\n",
       "    </tr>\n",
       "    <tr>\n",
       "      <th>11</th>\n",
       "      <td>1</td>\n",
       "      <td>&lt;!--\\nif (top != self) top.location.href = sel...</td>\n",
       "      <td>http://www.pornbb.org/forum</td>\n",
       "    </tr>\n",
       "    <tr>\n",
       "      <th>12</th>\n",
       "      <td>1</td>\n",
       "      <td>Our Network:Pornini.comSmutBossxxxHARDCORExxxP...</td>\n",
       "      <td>http://www.steponmyballs.com/</td>\n",
       "    </tr>\n",
       "    <tr>\n",
       "      <th>13</th>\n",
       "      <td>1</td>\n",
       "      <td>Login\\n\\t\\t\\tcreate account\\t\\t\\t\\n\\t\\n\\t\\n\\tH...</td>\n",
       "      <td>https://milovana.com/forum/</td>\n",
       "    </tr>\n",
       "    <tr>\n",
       "      <th>14</th>\n",
       "      <td>1</td>\n",
       "      <td>_uacct = \"UA-394686-1\";\\r\\nurchinTracker();\\r\\...</td>\n",
       "      <td>http://forum.drunkenstepfather.com/forumdispla...</td>\n",
       "    </tr>\n",
       "    <tr>\n",
       "      <th>15</th>\n",
       "      <td>1</td>\n",
       "      <td>i Love Boobs DailyMonth Filter by post typeAll...</td>\n",
       "      <td>http://iloveboobsdaily.tumblr.com/archive/</td>\n",
       "    </tr>\n",
       "    <tr>\n",
       "      <th>16</th>\n",
       "      <td>1</td>\n",
       "      <td>SexicallySexicalMonth Filter by post typeAll p...</td>\n",
       "      <td>http://sexicallysexical.tumblr.com/archive/</td>\n",
       "    </tr>\n",
       "    <tr>\n",
       "      <th>17</th>\n",
       "      <td>1</td>\n",
       "      <td>Official Tumblr of Veronica SteamMonth Filter ...</td>\n",
       "      <td>http://veronica-steam.tumblr.com/archive/</td>\n",
       "    </tr>\n",
       "    <tr>\n",
       "      <th>18</th>\n",
       "      <td>1</td>\n",
       "      <td>FUCKING THE REDBEARD!Month Filter by post type...</td>\n",
       "      <td>http://barbaruivo.tumblr.com/archive/</td>\n",
       "    </tr>\n",
       "    <tr>\n",
       "      <th>19</th>\n",
       "      <td>1</td>\n",
       "      <td>incest queenMonth Filter by post typeAll posts...</td>\n",
       "      <td>http://incestqueen.tumblr.com/archive/</td>\n",
       "    </tr>\n",
       "  </tbody>\n",
       "</table>\n",
       "</div>"
      ],
      "text/plain": [
       "    label                                               text  \\\n",
       "0       1  User:\\n        Pass:\\n  \\n        \\n\\n    \\n  ...   \n",
       "1       1  Home | \\n                                Categ...   \n",
       "2       1  youpunish.com\\tEnlaces relacionadosEste domini...   \n",
       "3       1  FuckingMonth Filter by post typeAll postsTextP...   \n",
       "4       1  (function() { document.write('<iframe alt=\"\" a...   \n",
       "5       1  SexgifMonth Filter by post typeAll postsTextPh...   \n",
       "6       1  phantomPopunder = (function () {\\r\\n\\tvar phan...   \n",
       "7       1  Sign-In or Join\\r\\n\\t\\t        \\r\\n\\t        \\...   \n",
       "8       1  sonnbXenGalleryEnableInterlace = 0;\\n\\n\\n\\n   ...   \n",
       "9       1  Forumophilia\\n\\n\\n\\n\\n\\nRegister  \\n\\nLog in  ...   \n",
       "10      1  Your browser does not support iframes. \\n\\n\\n\\...   \n",
       "11      1  <!--\\nif (top != self) top.location.href = sel...   \n",
       "12      1  Our Network:Pornini.comSmutBossxxxHARDCORExxxP...   \n",
       "13      1  Login\\n\\t\\t\\tcreate account\\t\\t\\t\\n\\t\\n\\t\\n\\tH...   \n",
       "14      1  _uacct = \"UA-394686-1\";\\r\\nurchinTracker();\\r\\...   \n",
       "15      1  i Love Boobs DailyMonth Filter by post typeAll...   \n",
       "16      1  SexicallySexicalMonth Filter by post typeAll p...   \n",
       "17      1  Official Tumblr of Veronica SteamMonth Filter ...   \n",
       "18      1  FUCKING THE REDBEARD!Month Filter by post type...   \n",
       "19      1  incest queenMonth Filter by post typeAll posts...   \n",
       "\n",
       "                                                  url  \n",
       "0        http://www.kuntfutube.com/videos/all/date-0/  \n",
       "1                                 http://www.pk5.net/  \n",
       "2                            http://ww1.youpunish.com  \n",
       "3                http://g-o-z-a-r.tumblr.com/archive/  \n",
       "4                                 http://www.yobt.tv/  \n",
       "5               http://sexgif-net.tumblr.com/archive/  \n",
       "6                   http://vintage-erotica-forum.com/  \n",
       "7         http://www.icanhazchat.com/welcome?gonewild  \n",
       "8                              http://forum.xnxx.com/  \n",
       "9                         http://www.forumophilia.com  \n",
       "10                             http://www.porn-w.org/  \n",
       "11                        http://www.pornbb.org/forum  \n",
       "12                      http://www.steponmyballs.com/  \n",
       "13                        https://milovana.com/forum/  \n",
       "14  http://forum.drunkenstepfather.com/forumdispla...  \n",
       "15         http://iloveboobsdaily.tumblr.com/archive/  \n",
       "16        http://sexicallysexical.tumblr.com/archive/  \n",
       "17          http://veronica-steam.tumblr.com/archive/  \n",
       "18              http://barbaruivo.tumblr.com/archive/  \n",
       "19             http://incestqueen.tumblr.com/archive/  "
      ]
     },
     "execution_count": 25,
     "metadata": {},
     "output_type": "execute_result"
    }
   ],
   "source": [
    "data.head(20)"
   ]
  },
  {
   "cell_type": "code",
   "execution_count": 26,
   "metadata": {
    "collapsed": false
   },
   "outputs": [
    {
     "data": {
      "text/html": [
       "<div>\n",
       "<table border=\"1\" class=\"dataframe\">\n",
       "  <thead>\n",
       "    <tr style=\"text-align: right;\">\n",
       "      <th></th>\n",
       "      <th>label</th>\n",
       "      <th>text</th>\n",
       "      <th>url</th>\n",
       "    </tr>\n",
       "  </thead>\n",
       "  <tbody>\n",
       "    <tr>\n",
       "      <th>833</th>\n",
       "      <td>0</td>\n",
       "      <td>2016  \\n\\n\\t\\t\\t\\t\\t\\t\\t\\t\\t\\t\\t\\t\\t\\t\\t\\t\\t\\t...</td>\n",
       "      <td>http://www.rawstory.com/</td>\n",
       "    </tr>\n",
       "    <tr>\n",
       "      <th>834</th>\n",
       "      <td>0</td>\n",
       "      <td>Log in / Sign upFollow JezebelFollowing Jezebe...</td>\n",
       "      <td>http://jezebel.com/</td>\n",
       "    </tr>\n",
       "    <tr>\n",
       "      <th>835</th>\n",
       "      <td>0</td>\n",
       "      <td>Press enter to search\\n\\t\\t\\t\\t\\t\\t\\t\\t\\t\\t\\n\\...</td>\n",
       "      <td>http://www.feld.com/</td>\n",
       "    </tr>\n",
       "    <tr>\n",
       "      <th>836</th>\n",
       "      <td>0</td>\n",
       "      <td>var w_width = window.document.width || documen...</td>\n",
       "      <td>http://www.momtrends.com/</td>\n",
       "    </tr>\n",
       "    <tr>\n",
       "      <th>837</th>\n",
       "      <td>0</td>\n",
       "      <td>Join\\n               | \\n              Sign In...</td>\n",
       "      <td>http://www.modcloth.com/</td>\n",
       "    </tr>\n",
       "    <tr>\n",
       "      <th>838</th>\n",
       "      <td>0</td>\n",
       "      <td>(function(w,d,s,l,i){w[l]=w[l]||[];w[l].push({...</td>\n",
       "      <td>http://weheartit.com/</td>\n",
       "    </tr>\n",
       "    <tr>\n",
       "      <th>839</th>\n",
       "      <td>0</td>\n",
       "      <td>Please upgrade your browser for the best Refin...</td>\n",
       "      <td>http://www.refinery29.com/</td>\n",
       "    </tr>\n",
       "    <tr>\n",
       "      <th>840</th>\n",
       "      <td>0</td>\n",
       "      <td>not-post\\n\\n\\n\\n\\n\\n \\n\\n\\n\\nHome\\nAbout\\nCont...</td>\n",
       "      <td>http://www.primermagazine.com/</td>\n",
       "    </tr>\n",
       "    <tr>\n",
       "      <th>841</th>\n",
       "      <td>0</td>\n",
       "      <td>.lt-ie10 .messenger.suggestions {\\n        dis...</td>\n",
       "      <td>http://www.nytimes.com/section/upshot</td>\n",
       "    </tr>\n",
       "    <tr>\n",
       "      <th>842</th>\n",
       "      <td>0</td>\n",
       "      <td>Well Spent. - Obtainable, honestly crafted goo...</td>\n",
       "      <td>http://well-spent.com/</td>\n",
       "    </tr>\n",
       "    <tr>\n",
       "      <th>843</th>\n",
       "      <td>0</td>\n",
       "      <td>Discover and buy amazing products.\\nGet The Ap...</td>\n",
       "      <td>https://keep.com/</td>\n",
       "    </tr>\n",
       "    <tr>\n",
       "      <th>844</th>\n",
       "      <td>0</td>\n",
       "      <td>GENIUS\\n      \\n    \\n\\n    \\n      \\n        ...</td>\n",
       "      <td>http://genius.com/</td>\n",
       "    </tr>\n",
       "    <tr>\n",
       "      <th>845</th>\n",
       "      <td>0</td>\n",
       "      <td>if ((navigator.doNotTrack===\"yes\") || (navigat...</td>\n",
       "      <td>http://porhomme.com/</td>\n",
       "    </tr>\n",
       "    <tr>\n",
       "      <th>846</th>\n",
       "      <td>0</td>\n",
       "      <td>YAHOO.util.Event.onDOMReady(function() {\\n    ...</td>\n",
       "      <td>http://www.freemanbrand.com/</td>\n",
       "    </tr>\n",
       "    <tr>\n",
       "      <th>847</th>\n",
       "      <td>0</td>\n",
       "      <td>(function(){\\r\\n  var bsa = document.createEle...</td>\n",
       "      <td>http://everydaycarry.com/</td>\n",
       "    </tr>\n",
       "    <tr>\n",
       "      <th>848</th>\n",
       "      <td>0</td>\n",
       "      <td>body { display: none !important; }\\n\\n   if (s...</td>\n",
       "      <td>https://www.twitch.tv/</td>\n",
       "    </tr>\n",
       "    <tr>\n",
       "      <th>849</th>\n",
       "      <td>0</td>\n",
       "      <td>SHOP\\n                    \\n                \\n...</td>\n",
       "      <td>https://grandst.com/</td>\n",
       "    </tr>\n",
       "    <tr>\n",
       "      <th>850</th>\n",
       "      <td>0</td>\n",
       "      <td>Skip navigation\\n  \\n  \\n  \\n  \\nESUploadSign ...</td>\n",
       "      <td>https://www.youtube.com/user/DailyTekk</td>\n",
       "    </tr>\n",
       "    <tr>\n",
       "      <th>851</th>\n",
       "      <td>0</td>\n",
       "      <td>window._sharedData = {\"country_code\":\"ES\",\"lan...</td>\n",
       "      <td>https://www.instagram.com/dailytekk/</td>\n",
       "    </tr>\n",
       "    <tr>\n",
       "      <th>852</th>\n",
       "      <td>0</td>\n",
       "      <td>Cookies help us provide, protect and improve F...</td>\n",
       "      <td>https://www.facebook.com/login.php?skip_api_lo...</td>\n",
       "    </tr>\n",
       "  </tbody>\n",
       "</table>\n",
       "</div>"
      ],
      "text/plain": [
       "     label                                               text  \\\n",
       "833      0  2016  \\n\\n\\t\\t\\t\\t\\t\\t\\t\\t\\t\\t\\t\\t\\t\\t\\t\\t\\t\\t...   \n",
       "834      0  Log in / Sign upFollow JezebelFollowing Jezebe...   \n",
       "835      0  Press enter to search\\n\\t\\t\\t\\t\\t\\t\\t\\t\\t\\t\\n\\...   \n",
       "836      0  var w_width = window.document.width || documen...   \n",
       "837      0  Join\\n               | \\n              Sign In...   \n",
       "838      0  (function(w,d,s,l,i){w[l]=w[l]||[];w[l].push({...   \n",
       "839      0  Please upgrade your browser for the best Refin...   \n",
       "840      0  not-post\\n\\n\\n\\n\\n\\n \\n\\n\\n\\nHome\\nAbout\\nCont...   \n",
       "841      0  .lt-ie10 .messenger.suggestions {\\n        dis...   \n",
       "842      0  Well Spent. - Obtainable, honestly crafted goo...   \n",
       "843      0  Discover and buy amazing products.\\nGet The Ap...   \n",
       "844      0  GENIUS\\n      \\n    \\n\\n    \\n      \\n        ...   \n",
       "845      0  if ((navigator.doNotTrack===\"yes\") || (navigat...   \n",
       "846      0  YAHOO.util.Event.onDOMReady(function() {\\n    ...   \n",
       "847      0  (function(){\\r\\n  var bsa = document.createEle...   \n",
       "848      0  body { display: none !important; }\\n\\n   if (s...   \n",
       "849      0  SHOP\\n                    \\n                \\n...   \n",
       "850      0  Skip navigation\\n  \\n  \\n  \\n  \\nESUploadSign ...   \n",
       "851      0  window._sharedData = {\"country_code\":\"ES\",\"lan...   \n",
       "852      0  Cookies help us provide, protect and improve F...   \n",
       "\n",
       "                                                   url  \n",
       "833                           http://www.rawstory.com/  \n",
       "834                                http://jezebel.com/  \n",
       "835                               http://www.feld.com/  \n",
       "836                          http://www.momtrends.com/  \n",
       "837                           http://www.modcloth.com/  \n",
       "838                              http://weheartit.com/  \n",
       "839                         http://www.refinery29.com/  \n",
       "840                     http://www.primermagazine.com/  \n",
       "841              http://www.nytimes.com/section/upshot  \n",
       "842                             http://well-spent.com/  \n",
       "843                                  https://keep.com/  \n",
       "844                                 http://genius.com/  \n",
       "845                               http://porhomme.com/  \n",
       "846                       http://www.freemanbrand.com/  \n",
       "847                          http://everydaycarry.com/  \n",
       "848                             https://www.twitch.tv/  \n",
       "849                               https://grandst.com/  \n",
       "850             https://www.youtube.com/user/DailyTekk  \n",
       "851               https://www.instagram.com/dailytekk/  \n",
       "852  https://www.facebook.com/login.php?skip_api_lo...  "
      ]
     },
     "execution_count": 26,
     "metadata": {},
     "output_type": "execute_result"
    }
   ],
   "source": [
    "data.tail(20)"
   ]
  },
  {
   "cell_type": "markdown",
   "metadata": {
    "deletable": true,
    "editable": true
   },
   "source": [
    "# Extraemos informacion de las tags HTML relevantes"
   ]
  },
  {
   "cell_type": "code",
   "execution_count": 36,
   "metadata": {
    "collapsed": true,
    "deletable": true,
    "editable": true
   },
   "outputs": [],
   "source": [
    "from parsel import Selector\n",
    "\n",
    "def parse_url(url_text):\n",
    "    sel = Selector(text=url_text, type=\"html\")\n",
    "    meta_tags = ['keywords', 'description', 'category', 'RATING']\n",
    "    tags = []\n",
    "    for tag in meta_tags:\n",
    "        tags.append( sel.xpath('//meta[@name=\"{}\"]/@content'.format(tag)).extract_first())\n",
    "    text = ''.join(sel.xpath(\"//body//text()\").extract()).strip()\n",
    "    text += ' '.join([i for i in tags if i])\n",
    "    return text"
   ]
  },
  {
   "cell_type": "code",
   "execution_count": 37,
   "metadata": {
    "collapsed": false,
    "deletable": true,
    "editable": true
   },
   "outputs": [],
   "source": [
    "data['all_text'] = data[\"text\"].apply(parse_url)"
   ]
  },
  {
   "cell_type": "code",
   "execution_count": 38,
   "metadata": {
    "collapsed": false,
    "deletable": true,
    "editable": true
   },
   "outputs": [
    {
     "data": {
      "text/html": [
       "<div>\n",
       "<table border=\"1\" class=\"dataframe\">\n",
       "  <thead>\n",
       "    <tr style=\"text-align: right;\">\n",
       "      <th></th>\n",
       "      <th>label</th>\n",
       "      <th>text</th>\n",
       "      <th>url</th>\n",
       "      <th>all_text</th>\n",
       "    </tr>\n",
       "  </thead>\n",
       "  <tbody>\n",
       "    <tr>\n",
       "      <th>0</th>\n",
       "      <td>1</td>\n",
       "      <td>User:\\n        Pass:\\n  \\n        \\n\\n    \\n  ...</td>\n",
       "      <td>http://www.kuntfutube.com/videos/all/date-0/</td>\n",
       "      <td>User:\\n        Pass:\\n  \\n        \\n\\n    \\n  ...</td>\n",
       "    </tr>\n",
       "    <tr>\n",
       "      <th>1</th>\n",
       "      <td>1</td>\n",
       "      <td>Home | \\n                                Categ...</td>\n",
       "      <td>http://www.pk5.net/</td>\n",
       "      <td>Home | \\n                                Categ...</td>\n",
       "    </tr>\n",
       "    <tr>\n",
       "      <th>2</th>\n",
       "      <td>1</td>\n",
       "      <td>youpunish.com\\tEnlaces relacionadosEste domini...</td>\n",
       "      <td>http://ww1.youpunish.com</td>\n",
       "      <td>youpunish.com\\tEnlaces relacionadosEste domini...</td>\n",
       "    </tr>\n",
       "    <tr>\n",
       "      <th>3</th>\n",
       "      <td>1</td>\n",
       "      <td>FuckingMonth Filter by post typeAll postsTextP...</td>\n",
       "      <td>http://g-o-z-a-r.tumblr.com/archive/</td>\n",
       "      <td>FuckingMonth Filter by post typeAll postsTextP...</td>\n",
       "    </tr>\n",
       "    <tr>\n",
       "      <th>4</th>\n",
       "      <td>1</td>\n",
       "      <td>(function() { document.write('&lt;iframe alt=\"\" a...</td>\n",
       "      <td>http://www.yobt.tv/</td>\n",
       "      <td>(function() { document.write('');})();\\n    \\t...</td>\n",
       "    </tr>\n",
       "  </tbody>\n",
       "</table>\n",
       "</div>"
      ],
      "text/plain": [
       "   label                                               text  \\\n",
       "0      1  User:\\n        Pass:\\n  \\n        \\n\\n    \\n  ...   \n",
       "1      1  Home | \\n                                Categ...   \n",
       "2      1  youpunish.com\\tEnlaces relacionadosEste domini...   \n",
       "3      1  FuckingMonth Filter by post typeAll postsTextP...   \n",
       "4      1  (function() { document.write('<iframe alt=\"\" a...   \n",
       "\n",
       "                                            url  \\\n",
       "0  http://www.kuntfutube.com/videos/all/date-0/   \n",
       "1                           http://www.pk5.net/   \n",
       "2                      http://ww1.youpunish.com   \n",
       "3          http://g-o-z-a-r.tumblr.com/archive/   \n",
       "4                           http://www.yobt.tv/   \n",
       "\n",
       "                                            all_text  \n",
       "0  User:\\n        Pass:\\n  \\n        \\n\\n    \\n  ...  \n",
       "1  Home | \\n                                Categ...  \n",
       "2  youpunish.com\\tEnlaces relacionadosEste domini...  \n",
       "3  FuckingMonth Filter by post typeAll postsTextP...  \n",
       "4  (function() { document.write('');})();\\n    \\t...  "
      ]
     },
     "execution_count": 38,
     "metadata": {},
     "output_type": "execute_result"
    }
   ],
   "source": [
    "data.head()"
   ]
  },
  {
   "cell_type": "markdown",
   "metadata": {
    "deletable": true,
    "editable": true
   },
   "source": [
    "# Usamos Procesado de Lenguaje Natural para limpiar el texto html de las paginas web y extraer las palabras relevantes"
   ]
  },
  {
   "cell_type": "code",
   "execution_count": 6,
   "metadata": {
    "collapsed": false,
    "deletable": true,
    "editable": true,
    "scrolled": true
   },
   "outputs": [
    {
     "name": "stdout",
     "output_type": "stream",
     "text": [
      "[nltk_data] Downloading package stopwords to /home/manuel/nltk_data...\n",
      "[nltk_data]   Package stopwords is already up-to-date!\n",
      "[nltk_data] Downloading package punkt to /home/manuel/nltk_data...\n",
      "[nltk_data]   Package punkt is already up-to-date!\n"
     ]
    },
    {
     "data": {
      "text/plain": [
       "\"\\ndef normalize(s):\\n    if not s: return ''\\n    words = tokenize.wordpunct_tokenize(s.lower().strip())\\n    return [stemmer.stem(w) for w in words]\\n    return ' '.join([stemmer.stem(w) for w in words])\\n\""
      ]
     },
     "execution_count": 6,
     "metadata": {},
     "output_type": "execute_result"
    }
   ],
   "source": [
    "import string\n",
    "import nltk\n",
    "from nltk import stem, word_tokenize\n",
    "import string\n",
    "import numpy\n",
    "from nltk.corpus import stopwords\n",
    "\n",
    "nltk.download('stopwords')\n",
    "nltk.download('punkt')\n",
    "\n",
    "stemmer = stem.PorterStemmer()\n",
    "stemmer = stem.SnowballStemmer(\"english\")\n",
    "\n",
    "NLTK_STOPWORDS = stopwords.words('english')\n",
    "\n",
    "def stem_tokens(tokens, stemmer):\n",
    "    stemmed = []\n",
    "    for item in tokens:\n",
    "        stemmed.append(stemmer.stem(item))\n",
    "    return stemmed\n",
    "\n",
    "def tokenize(text):\n",
    "    text = \"\".join([ch for ch in text if ch not in string.punctuation])\n",
    "    tokens = word_tokenize(text)\n",
    "    stems = stem_tokens(tokens, stemmer)\n",
    "    return stems\n",
    "\"\"\"\n",
    "def normalize(s):\n",
    "    if not s: return ''\n",
    "    words = tokenize.wordpunct_tokenize(s.lower().strip())\n",
    "    return [stemmer.stem(w) for w in words]\n",
    "    return ' '.join([stemmer.stem(w) for w in words])\n",
    "\"\"\""
   ]
  },
  {
   "cell_type": "markdown",
   "metadata": {
    "deletable": true,
    "editable": true
   },
   "source": [
    "# Creamos un CountVectorizer, que convierte una lista de palabras en una matriz de las palabras mas comunes y el numero de veces que aparecen en cada linea"
   ]
  },
  {
   "cell_type": "code",
   "execution_count": 8,
   "metadata": {
    "collapsed": false,
    "deletable": true,
    "editable": true
   },
   "outputs": [],
   "source": [
    "from sklearn.feature_extraction.text import CountVectorizer\n",
    "\n",
    "vectorizer = CountVectorizer(strip_accents='unicode',ngram_range=(1,3), stop_words='english', tokenizer=tokenize)"
   ]
  },
  {
   "cell_type": "markdown",
   "metadata": {},
   "source": [
    "# El output de vectorizer tiene este aspecto"
   ]
  },
  {
   "cell_type": "code",
   "execution_count": 10,
   "metadata": {
    "collapsed": false
   },
   "outputs": [],
   "source": [
    "text_vector = vectorizer.fit_transform(data.text)"
   ]
  },
  {
   "cell_type": "code",
   "execution_count": 14,
   "metadata": {
    "collapsed": false
   },
   "outputs": [
    {
     "data": {
      "text/plain": [
       "matrix([[15,  0,  0, ...,  0,  0,  0],\n",
       "        [ 0,  0,  0, ...,  0,  0,  0],\n",
       "        [ 0,  0,  0, ...,  0,  0,  0],\n",
       "        ..., \n",
       "        [ 3,  0,  0, ...,  0,  0,  0],\n",
       "        [ 0,  0,  0, ...,  0,  0,  0],\n",
       "        [ 0,  0,  0, ...,  0,  0,  0]], dtype=int64)"
      ]
     },
     "execution_count": 14,
     "metadata": {},
     "output_type": "execute_result"
    }
   ],
   "source": [
    "text_vector.todense()"
   ]
  },
  {
   "cell_type": "markdown",
   "metadata": {},
   "source": [
    "# Creamos un pipeline (basicamente una lista de pasos que aplicar al dataset) con el countVectorizer y el Algoritmo SVC"
   ]
  },
  {
   "cell_type": "code",
   "execution_count": 15,
   "metadata": {
    "collapsed": true
   },
   "outputs": [],
   "source": [
    "from sklearn.pipeline import Pipeline\n",
    "from sklearn.svm import SVC\n",
    "pipeline = Pipeline([(\"vectorizer\", vectorizer), (\"svm\", SVC(probability=True, class_weight='balanced'))])"
   ]
  },
  {
   "cell_type": "markdown",
   "metadata": {
    "deletable": true,
    "editable": true
   },
   "source": [
    "# Entrenamos el modelo"
   ]
  },
  {
   "cell_type": "code",
   "execution_count": 16,
   "metadata": {
    "collapsed": false,
    "deletable": true,
    "editable": true
   },
   "outputs": [],
   "source": [
    "pipeline_fit = pipeline.fit(data.text, data.label)"
   ]
  },
  {
   "cell_type": "markdown",
   "metadata": {
    "deletable": true,
    "editable": true
   },
   "source": [
    "# Creamos funcion para detectar páginas adultas"
   ]
  },
  {
   "cell_type": "code",
   "execution_count": 17,
   "metadata": {
    "collapsed": false,
    "deletable": true,
    "editable": true
   },
   "outputs": [],
   "source": [
    "from urllib.parse import urljoin\n",
    "import requests\n",
    "from urllib.parse import urlparse\n",
    "\n",
    "def get_url_text(url):\n",
    "    request = requests.get(url)\n",
    "    return request.text\n",
    "\n",
    "def detect_adult_page(url):\n",
    "    url_text = get_url_text(url)\n",
    "    data = parse_url(url_text)\n",
    "    probs =  pipeline_fit.predict_proba([data])[0]\n",
    "    print(\"Probabilities for url {}: Not Adult:{}; Adult:{}\".format(url, probs[0], probs[1]))"
   ]
  },
  {
   "cell_type": "markdown",
   "metadata": {
    "deletable": true,
    "editable": true
   },
   "source": [
    "# Testeamos"
   ]
  },
  {
   "cell_type": "code",
   "execution_count": 19,
   "metadata": {
    "collapsed": false,
    "deletable": true,
    "editable": true
   },
   "outputs": [
    {
     "name": "stdout",
     "output_type": "stream",
     "text": [
      "Paginas de contenido adulto\n",
      "Probabilities for url http://www.redtube.com: Not Adult:2.4783170527108597e-07; Adult:0.9999997521682947\n",
      "Probabilities for url https://www.xvideos.com: Not Adult:0.15242570989439025; Adult:0.8475742901056097\n",
      "\n",
      "\n",
      "Paginas no de contenido adulto\n",
      "Probabilities for url https://www.reddit.com: Not Adult:0.7763417114404033; Adult:0.2236582885595967\n",
      "Probabilities for url http://nonhabitualresidents.com/#intro: Not Adult:0.937109801951615; Adult:0.0628901980483849\n",
      "Probabilities for url https://medium.com/@ericfeldman93/my-nephew-vs-ml-9e4519af499a: Not Adult:0.8478631482392281; Adult:0.15213685176077182\n"
     ]
    }
   ],
   "source": [
    "print(\"Paginas de contenido adulto\")\n",
    "detect_adult_page(\"http://www.redtube.com\")\n",
    "detect_adult_page(\"https://www.xvideos.com\")\n",
    "\n",
    "print(\"\\n\\nPaginas no de contenido adulto\")\n",
    "detect_adult_page(\"https://www.reddit.com\")\n",
    "detect_adult_page(\"http://nonhabitualresidents.com/#intro\")\n",
    "detect_adult_page(\"https://medium.com/@ericfeldman93/my-nephew-vs-ml-9e4519af499a\")"
   ]
  },
  {
   "cell_type": "code",
   "execution_count": null,
   "metadata": {
    "collapsed": true,
    "deletable": true,
    "editable": true
   },
   "outputs": [],
   "source": []
  }
 ],
 "metadata": {
  "kernelspec": {
   "display_name": "Python 3",
   "language": "python",
   "name": "python3"
  },
  "language_info": {
   "codemirror_mode": {
    "name": "ipython",
    "version": 3
   },
   "file_extension": ".py",
   "mimetype": "text/x-python",
   "name": "python",
   "nbconvert_exporter": "python",
   "pygments_lexer": "ipython3",
   "version": "3.6.1"
  }
 },
 "nbformat": 4,
 "nbformat_minor": 0
}
